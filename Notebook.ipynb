{
 "cells": [
  {
   "cell_type": "markdown",
   "id": "c9db1444-296e-4765-b995-9f5de3433167",
   "metadata": {},
   "source": [
    "# Project Summary\n",
    "This project focuses on the application of predictive analytics to streamline the promotion process within a large multinational corporation (MNC) with multiple organizational verticals. Traditionally, identifying candidates for promotion has been manual and constrained by the time-consuming nature of HR evaluations and KPI-based assessments. By leveraging machine learning, this project aims to help the company predict which employees are most likely to be promoted to managerial positions and below, expediting their transition into new roles and enhancing HR efficiency."
   ]
  },
  {
   "cell_type": "markdown",
   "id": "30bb3294-f913-4d7a-9d70-301ad94527c0",
   "metadata": {},
   "source": [
    "# Business Understanding\n",
    "Our client, a large MNC, operates across 9 broad organizational verticals. A primary challenge they face is identifying high-potential candidates for promotion in a timely manner. Currently, employees are recommended for promotion based on past performance and are required to complete training and evaluation programs specific to each vertical. Employees who achieve at least 60% KPI completion are considered for promotion, but final decisions are only made after all evaluations are completed, delaying the promotion cycle.\n",
    "\n",
    "The goal is to help HR departments proactively identify employees eligible for promotion at a specific checkpoint, enabling a faster, data-driven promotion cycle."
   ]
  },
  {
   "cell_type": "markdown",
   "id": "9109b2be-7b2c-46de-b662-1ac29a719cfd",
   "metadata": {},
   "source": [
    "# Problem Statement\n",
    "The current promotion process for managerial positions and below is manual and time-intensive, leading to delays in transitioning employees into new roles. The HR department seeks a predictive model to assess the eligibility of employees for promotion based on demographic and performance data."
   ]
  },
  {
   "cell_type": "markdown",
   "id": "976e222b-ddbb-4847-9c46-93304c31bef8",
   "metadata": {},
   "source": [
    "# Objectives\n",
    "\n",
    "## Main Objective\n",
    "\n",
    "The main objective of this project is to increase the effectiveness and precision of the promotion process for HR professionals, by developing a model that uses historical data to forecast which workers are most likely to be promoted.\n",
    "\n",
    "## Key Business Questions\n",
    "1. Which employees are most likely to be promoted in the next cycle?\n",
    "2. What are the most significant factors influencing promotions within the organization?\n",
    "3. Is there any observable bias in promotion decisions that needs to be addressed?\n",
    "4. How can training programs be optimized to increase the likelihood of promotion?\n",
    "5. What impact does promotion likelihood have on employee retention?\n",
    "\n",
    "## Stakeholders\n",
    "- **HR Department** - These are the primary users of the promotion prediction model.\n",
    "- **Department Heads and Team Managers** - Managers would benefit from the insights to understand the promotion potential within their teams, support employee development, and make informed recommendations based on data.\n",
    "- **Executive Leadership** - The findings of this study will inform strategic decisions on talent retention, workforce planning, and to align promotion processes with organizational goals.\n",
    "- **Data Science/IT Team** - Responsible for managing the model deployment, updates, and integration with existing HR systems, ensuring data privacy and compliance throughout the project.\n"
   ]
  },
  {
   "cell_type": "markdown",
   "id": "5fd5a0fe-208f-40d1-8c57-107e4c79e3b7",
   "metadata": {},
   "source": [
    "# Data Understanding\n",
    "\n",
    "This section provides an overview of the datasets used in this project to predict employee promotions. \n",
    "\n",
    "The dataset consists of 54,808 observations of 14 variables.\n",
    "\n",
    "We have two datasets:\n",
    "- **Train Dataset**: Used for building the model. Contains information on current employees, their demographics, performance, and target labels indicating if they were promoted.\n",
    "- **Test Dataset**: Used for model evaluation. Contains similar features but without the target labels.\n",
    "\n",
    "The dataset provides comprehensive information about each employee's demographic profile, employment background, performance indicators, and training outcomes. Each record represents an employee and includes the following key features:\n",
    "\n",
    "- **employee_id**: A unique identifier for each employee.\n",
    "- **department**: The department to which the employee belongs, indicating their area of expertise.\n",
    "- **region**: The geographical location of the employee’s role, represented as an unordered categorical variable.\n",
    "- **education**: The highest level of education attained by the employee, which may influence role-specific skills and promotion potential.\n",
    "- **gender**: The gender of the employee, providing insights into diversity in promotion patterns.\n",
    "- **recruitment_channel**: The method by which the employee was recruited, indicating initial access channels.\n",
    "- **no_of_trainings**: The number of training programs completed by the employee in the previous year, covering technical and soft skills.\n",
    "- **age**: The employee’s age, which may correlate with experience and readiness for promotion.\n",
    "- **previous_year_rating**: The performance rating assigned to the employee for the prior year.\n",
    "- **length_of_service**: The number of years the employee has been with the organization, reflecting organizational experience.\n",
    "- **KPIs_met >80%**: A binary indicator of whether the employee met over 80% of their Key Performance Indicators (KPIs) in the past year.\n",
    "- **awards_won?**: A binary indicator showing if the employee received any awards in the previous year, which may highlight recognition of outstanding performance.\n",
    "- **avg_training_score**: The average score achieved by the employee in recent training evaluations, which reflects skill development and training outcomes.\n",
    "- **is_promoted**: The target variable indicating if the employee was recommended for promotion (1) or not (0).\n",
    "\n",
    "Understanding these variables is crucial as they are the basis for training a model to predict promotion eligibility. By analyzing patterns in demographic and performance-related data, we aim to identify the factors most strongly associated with promotion, facilitating more objective and efficient promotion decisions."
   ]
  },
  {
   "cell_type": "markdown",
   "id": "bffec5fc-a769-40d1-a681-dc90570f688b",
   "metadata": {},
   "source": [
    "# Data Exploration"
   ]
  },
  {
   "cell_type": "markdown",
   "id": "b7c96f13-aca3-482e-a0a3-269cc2057b12",
   "metadata": {},
   "source": [
    "# Importing the libraries"
   ]
  },
  {
   "cell_type": "code",
   "execution_count": 1,
   "id": "b6692802-a396-4f32-9ac5-9fcab1de777a",
   "metadata": {},
   "outputs": [],
   "source": [
    "#Importing the necessary classes, functions, and packages needed.\n",
    "\n",
    "import pandas as pd\n",
    "import numpy as np\n",
    "import seaborn as sns\n",
    "import matplotlib.pyplot as plt\n",
    "from sklearn.preprocessing import StandardScaler\n",
    "from sklearn.neighbors import KNeighborsClassifier\n",
    "from sklearn.cluster import KMeans\n",
    "from sklearn.model_selection import train_test_split, GridSearchCV\n",
    "from sklearn.ensemble import RandomForestClassifier\n",
    "from sklearn.pipeline import Pipeline\n",
    "from sklearn.compose import ColumnTransformer\n",
    "from sklearn.preprocessing import StandardScaler, LabelEncoder\n",
    "from sklearn.metrics import classification_report, accuracy_score, confusion_matrix\n",
    "from IPython.display import Markdown, display\n",
    "\n",
    "\n",
    "import warnings\n",
    "warnings.filterwarnings('ignore')\n"
   ]
  },
  {
   "cell_type": "markdown",
   "id": "a98f57ff-7ff8-4163-a301-47ef4cc2923b",
   "metadata": {},
   "source": [
    "**Loading the Dataset**"
   ]
  },
  {
   "cell_type": "code",
   "execution_count": 2,
   "id": "294d5920-dc7e-4a23-8dcb-cec5ceffab71",
   "metadata": {},
   "outputs": [
    {
     "name": "stdout",
     "output_type": "stream",
     "text": [
      "train_data = (54808, 14)\n",
      "test_data = (23490, 13)\n"
     ]
    }
   ],
   "source": [
    "#Importing the provided train and test data\n",
    "\n",
    "train = pd.read_csv(\"Data/train.csv\")\n",
    "test = pd.read_csv(\"Data/test.csv\")\n",
    "\n",
    "print (f\"train_data = {train.shape}\")\n",
    "print (f\"test_data = {test.shape}\")"
   ]
  },
  {
   "cell_type": "markdown",
   "id": "671acdde-8977-4177-8b33-122bbc8cfb2e",
   "metadata": {},
   "source": [
    "**Understanding the data**"
   ]
  },
  {
   "cell_type": "code",
   "execution_count": 3,
   "id": "c3ba0e62-fd21-434d-b73f-d7f56c30c22f",
   "metadata": {},
   "outputs": [
    {
     "data": {
      "text/html": [
       "<div>\n",
       "<style scoped>\n",
       "    .dataframe tbody tr th:only-of-type {\n",
       "        vertical-align: middle;\n",
       "    }\n",
       "\n",
       "    .dataframe tbody tr th {\n",
       "        vertical-align: top;\n",
       "    }\n",
       "\n",
       "    .dataframe thead th {\n",
       "        text-align: right;\n",
       "    }\n",
       "</style>\n",
       "<table border=\"1\" class=\"dataframe\">\n",
       "  <thead>\n",
       "    <tr style=\"text-align: right;\">\n",
       "      <th></th>\n",
       "      <th>employee_id</th>\n",
       "      <th>department</th>\n",
       "      <th>region</th>\n",
       "      <th>education</th>\n",
       "      <th>gender</th>\n",
       "      <th>recruitment_channel</th>\n",
       "      <th>no_of_trainings</th>\n",
       "      <th>age</th>\n",
       "      <th>previous_year_rating</th>\n",
       "      <th>length_of_service</th>\n",
       "      <th>KPIs_met &gt;80%</th>\n",
       "      <th>awards_won?</th>\n",
       "      <th>avg_training_score</th>\n",
       "      <th>is_promoted</th>\n",
       "    </tr>\n",
       "  </thead>\n",
       "  <tbody>\n",
       "    <tr>\n",
       "      <th>0</th>\n",
       "      <td>65438</td>\n",
       "      <td>Sales &amp; Marketing</td>\n",
       "      <td>region_7</td>\n",
       "      <td>Master's &amp; above</td>\n",
       "      <td>f</td>\n",
       "      <td>sourcing</td>\n",
       "      <td>1</td>\n",
       "      <td>35</td>\n",
       "      <td>5.0</td>\n",
       "      <td>8</td>\n",
       "      <td>1</td>\n",
       "      <td>0</td>\n",
       "      <td>49</td>\n",
       "      <td>0</td>\n",
       "    </tr>\n",
       "    <tr>\n",
       "      <th>1</th>\n",
       "      <td>65141</td>\n",
       "      <td>Operations</td>\n",
       "      <td>region_22</td>\n",
       "      <td>Bachelor's</td>\n",
       "      <td>m</td>\n",
       "      <td>other</td>\n",
       "      <td>1</td>\n",
       "      <td>30</td>\n",
       "      <td>5.0</td>\n",
       "      <td>4</td>\n",
       "      <td>0</td>\n",
       "      <td>0</td>\n",
       "      <td>60</td>\n",
       "      <td>0</td>\n",
       "    </tr>\n",
       "    <tr>\n",
       "      <th>2</th>\n",
       "      <td>7513</td>\n",
       "      <td>Sales &amp; Marketing</td>\n",
       "      <td>region_19</td>\n",
       "      <td>Bachelor's</td>\n",
       "      <td>m</td>\n",
       "      <td>sourcing</td>\n",
       "      <td>1</td>\n",
       "      <td>34</td>\n",
       "      <td>3.0</td>\n",
       "      <td>7</td>\n",
       "      <td>0</td>\n",
       "      <td>0</td>\n",
       "      <td>50</td>\n",
       "      <td>0</td>\n",
       "    </tr>\n",
       "    <tr>\n",
       "      <th>3</th>\n",
       "      <td>2542</td>\n",
       "      <td>Sales &amp; Marketing</td>\n",
       "      <td>region_23</td>\n",
       "      <td>Bachelor's</td>\n",
       "      <td>m</td>\n",
       "      <td>other</td>\n",
       "      <td>2</td>\n",
       "      <td>39</td>\n",
       "      <td>1.0</td>\n",
       "      <td>10</td>\n",
       "      <td>0</td>\n",
       "      <td>0</td>\n",
       "      <td>50</td>\n",
       "      <td>0</td>\n",
       "    </tr>\n",
       "    <tr>\n",
       "      <th>4</th>\n",
       "      <td>48945</td>\n",
       "      <td>Technology</td>\n",
       "      <td>region_26</td>\n",
       "      <td>Bachelor's</td>\n",
       "      <td>m</td>\n",
       "      <td>other</td>\n",
       "      <td>1</td>\n",
       "      <td>45</td>\n",
       "      <td>3.0</td>\n",
       "      <td>2</td>\n",
       "      <td>0</td>\n",
       "      <td>0</td>\n",
       "      <td>73</td>\n",
       "      <td>0</td>\n",
       "    </tr>\n",
       "  </tbody>\n",
       "</table>\n",
       "</div>"
      ],
      "text/plain": [
       "   employee_id         department     region         education gender  \\\n",
       "0        65438  Sales & Marketing   region_7  Master's & above      f   \n",
       "1        65141         Operations  region_22        Bachelor's      m   \n",
       "2         7513  Sales & Marketing  region_19        Bachelor's      m   \n",
       "3         2542  Sales & Marketing  region_23        Bachelor's      m   \n",
       "4        48945         Technology  region_26        Bachelor's      m   \n",
       "\n",
       "  recruitment_channel  no_of_trainings  age  previous_year_rating  \\\n",
       "0            sourcing                1   35                   5.0   \n",
       "1               other                1   30                   5.0   \n",
       "2            sourcing                1   34                   3.0   \n",
       "3               other                2   39                   1.0   \n",
       "4               other                1   45                   3.0   \n",
       "\n",
       "   length_of_service  KPIs_met >80%  awards_won?  avg_training_score  \\\n",
       "0                  8              1            0                  49   \n",
       "1                  4              0            0                  60   \n",
       "2                  7              0            0                  50   \n",
       "3                 10              0            0                  50   \n",
       "4                  2              0            0                  73   \n",
       "\n",
       "   is_promoted  \n",
       "0            0  \n",
       "1            0  \n",
       "2            0  \n",
       "3            0  \n",
       "4            0  "
      ]
     },
     "execution_count": 3,
     "metadata": {},
     "output_type": "execute_result"
    }
   ],
   "source": [
    "# Data Preview\n",
    "train.head()"
   ]
  },
  {
   "cell_type": "code",
   "execution_count": 4,
   "id": "58df4092-c978-41cd-a9d2-47d2ef125a73",
   "metadata": {},
   "outputs": [
    {
     "data": {
      "text/html": [
       "<div>\n",
       "<style scoped>\n",
       "    .dataframe tbody tr th:only-of-type {\n",
       "        vertical-align: middle;\n",
       "    }\n",
       "\n",
       "    .dataframe tbody tr th {\n",
       "        vertical-align: top;\n",
       "    }\n",
       "\n",
       "    .dataframe thead th {\n",
       "        text-align: right;\n",
       "    }\n",
       "</style>\n",
       "<table border=\"1\" class=\"dataframe\">\n",
       "  <thead>\n",
       "    <tr style=\"text-align: right;\">\n",
       "      <th></th>\n",
       "      <th>employee_id</th>\n",
       "      <th>department</th>\n",
       "      <th>region</th>\n",
       "      <th>education</th>\n",
       "      <th>gender</th>\n",
       "      <th>recruitment_channel</th>\n",
       "      <th>no_of_trainings</th>\n",
       "      <th>age</th>\n",
       "      <th>previous_year_rating</th>\n",
       "      <th>length_of_service</th>\n",
       "      <th>KPIs_met &gt;80%</th>\n",
       "      <th>awards_won?</th>\n",
       "      <th>avg_training_score</th>\n",
       "    </tr>\n",
       "  </thead>\n",
       "  <tbody>\n",
       "    <tr>\n",
       "      <th>0</th>\n",
       "      <td>8724</td>\n",
       "      <td>Technology</td>\n",
       "      <td>region_26</td>\n",
       "      <td>Bachelor's</td>\n",
       "      <td>m</td>\n",
       "      <td>sourcing</td>\n",
       "      <td>1</td>\n",
       "      <td>24</td>\n",
       "      <td>NaN</td>\n",
       "      <td>1</td>\n",
       "      <td>1</td>\n",
       "      <td>0</td>\n",
       "      <td>77</td>\n",
       "    </tr>\n",
       "    <tr>\n",
       "      <th>1</th>\n",
       "      <td>74430</td>\n",
       "      <td>HR</td>\n",
       "      <td>region_4</td>\n",
       "      <td>Bachelor's</td>\n",
       "      <td>f</td>\n",
       "      <td>other</td>\n",
       "      <td>1</td>\n",
       "      <td>31</td>\n",
       "      <td>3.0</td>\n",
       "      <td>5</td>\n",
       "      <td>0</td>\n",
       "      <td>0</td>\n",
       "      <td>51</td>\n",
       "    </tr>\n",
       "    <tr>\n",
       "      <th>2</th>\n",
       "      <td>72255</td>\n",
       "      <td>Sales &amp; Marketing</td>\n",
       "      <td>region_13</td>\n",
       "      <td>Bachelor's</td>\n",
       "      <td>m</td>\n",
       "      <td>other</td>\n",
       "      <td>1</td>\n",
       "      <td>31</td>\n",
       "      <td>1.0</td>\n",
       "      <td>4</td>\n",
       "      <td>0</td>\n",
       "      <td>0</td>\n",
       "      <td>47</td>\n",
       "    </tr>\n",
       "    <tr>\n",
       "      <th>3</th>\n",
       "      <td>38562</td>\n",
       "      <td>Procurement</td>\n",
       "      <td>region_2</td>\n",
       "      <td>Bachelor's</td>\n",
       "      <td>f</td>\n",
       "      <td>other</td>\n",
       "      <td>3</td>\n",
       "      <td>31</td>\n",
       "      <td>2.0</td>\n",
       "      <td>9</td>\n",
       "      <td>0</td>\n",
       "      <td>0</td>\n",
       "      <td>65</td>\n",
       "    </tr>\n",
       "    <tr>\n",
       "      <th>4</th>\n",
       "      <td>64486</td>\n",
       "      <td>Finance</td>\n",
       "      <td>region_29</td>\n",
       "      <td>Bachelor's</td>\n",
       "      <td>m</td>\n",
       "      <td>sourcing</td>\n",
       "      <td>1</td>\n",
       "      <td>30</td>\n",
       "      <td>4.0</td>\n",
       "      <td>7</td>\n",
       "      <td>0</td>\n",
       "      <td>0</td>\n",
       "      <td>61</td>\n",
       "    </tr>\n",
       "  </tbody>\n",
       "</table>\n",
       "</div>"
      ],
      "text/plain": [
       "   employee_id         department     region   education gender  \\\n",
       "0         8724         Technology  region_26  Bachelor's      m   \n",
       "1        74430                 HR   region_4  Bachelor's      f   \n",
       "2        72255  Sales & Marketing  region_13  Bachelor's      m   \n",
       "3        38562        Procurement   region_2  Bachelor's      f   \n",
       "4        64486            Finance  region_29  Bachelor's      m   \n",
       "\n",
       "  recruitment_channel  no_of_trainings  age  previous_year_rating  \\\n",
       "0            sourcing                1   24                   NaN   \n",
       "1               other                1   31                   3.0   \n",
       "2               other                1   31                   1.0   \n",
       "3               other                3   31                   2.0   \n",
       "4            sourcing                1   30                   4.0   \n",
       "\n",
       "   length_of_service  KPIs_met >80%  awards_won?  avg_training_score  \n",
       "0                  1              1            0                  77  \n",
       "1                  5              0            0                  51  \n",
       "2                  4              0            0                  47  \n",
       "3                  9              0            0                  65  \n",
       "4                  7              0            0                  61  "
      ]
     },
     "execution_count": 4,
     "metadata": {},
     "output_type": "execute_result"
    }
   ],
   "source": [
    "test.head()"
   ]
  },
  {
   "cell_type": "code",
   "execution_count": 5,
   "id": "2aea91e5-cada-4bde-bed7-dce84774c9df",
   "metadata": {},
   "outputs": [
    {
     "name": "stdout",
     "output_type": "stream",
     "text": [
      "<class 'pandas.core.frame.DataFrame'>\n",
      "RangeIndex: 54808 entries, 0 to 54807\n",
      "Data columns (total 14 columns):\n",
      " #   Column                Non-Null Count  Dtype  \n",
      "---  ------                --------------  -----  \n",
      " 0   employee_id           54808 non-null  int64  \n",
      " 1   department            54808 non-null  object \n",
      " 2   region                54808 non-null  object \n",
      " 3   education             52399 non-null  object \n",
      " 4   gender                54808 non-null  object \n",
      " 5   recruitment_channel   54808 non-null  object \n",
      " 6   no_of_trainings       54808 non-null  int64  \n",
      " 7   age                   54808 non-null  int64  \n",
      " 8   previous_year_rating  50684 non-null  float64\n",
      " 9   length_of_service     54808 non-null  int64  \n",
      " 10  KPIs_met >80%         54808 non-null  int64  \n",
      " 11  awards_won?           54808 non-null  int64  \n",
      " 12  avg_training_score    54808 non-null  int64  \n",
      " 13  is_promoted           54808 non-null  int64  \n",
      "dtypes: float64(1), int64(8), object(5)\n",
      "memory usage: 5.9+ MB\n"
     ]
    }
   ],
   "source": [
    "# Checking Data Structure\n",
    "train.info()"
   ]
  },
  {
   "cell_type": "code",
   "execution_count": 6,
   "id": "1d781f69-7bcf-4356-9526-2f8748ce028a",
   "metadata": {},
   "outputs": [
    {
     "name": "stdout",
     "output_type": "stream",
     "text": [
      "<class 'pandas.core.frame.DataFrame'>\n",
      "RangeIndex: 23490 entries, 0 to 23489\n",
      "Data columns (total 13 columns):\n",
      " #   Column                Non-Null Count  Dtype  \n",
      "---  ------                --------------  -----  \n",
      " 0   employee_id           23490 non-null  int64  \n",
      " 1   department            23490 non-null  object \n",
      " 2   region                23490 non-null  object \n",
      " 3   education             22456 non-null  object \n",
      " 4   gender                23490 non-null  object \n",
      " 5   recruitment_channel   23490 non-null  object \n",
      " 6   no_of_trainings       23490 non-null  int64  \n",
      " 7   age                   23490 non-null  int64  \n",
      " 8   previous_year_rating  21678 non-null  float64\n",
      " 9   length_of_service     23490 non-null  int64  \n",
      " 10  KPIs_met >80%         23490 non-null  int64  \n",
      " 11  awards_won?           23490 non-null  int64  \n",
      " 12  avg_training_score    23490 non-null  int64  \n",
      "dtypes: float64(1), int64(7), object(5)\n",
      "memory usage: 2.3+ MB\n"
     ]
    }
   ],
   "source": [
    "test.info()"
   ]
  },
  {
   "cell_type": "code",
   "execution_count": 7,
   "id": "8d2fbd5c-9f1a-4390-9995-ac73a9cf6b1a",
   "metadata": {},
   "outputs": [
    {
     "data": {
      "text/html": [
       "<div>\n",
       "<style scoped>\n",
       "    .dataframe tbody tr th:only-of-type {\n",
       "        vertical-align: middle;\n",
       "    }\n",
       "\n",
       "    .dataframe tbody tr th {\n",
       "        vertical-align: top;\n",
       "    }\n",
       "\n",
       "    .dataframe thead th {\n",
       "        text-align: right;\n",
       "    }\n",
       "</style>\n",
       "<table border=\"1\" class=\"dataframe\">\n",
       "  <thead>\n",
       "    <tr style=\"text-align: right;\">\n",
       "      <th></th>\n",
       "      <th>employee_id</th>\n",
       "      <th>no_of_trainings</th>\n",
       "      <th>age</th>\n",
       "      <th>previous_year_rating</th>\n",
       "      <th>length_of_service</th>\n",
       "      <th>KPIs_met &gt;80%</th>\n",
       "      <th>awards_won?</th>\n",
       "      <th>avg_training_score</th>\n",
       "      <th>is_promoted</th>\n",
       "    </tr>\n",
       "  </thead>\n",
       "  <tbody>\n",
       "    <tr>\n",
       "      <th>count</th>\n",
       "      <td>54808.000000</td>\n",
       "      <td>54808.000000</td>\n",
       "      <td>54808.000000</td>\n",
       "      <td>50684.000000</td>\n",
       "      <td>54808.000000</td>\n",
       "      <td>54808.000000</td>\n",
       "      <td>54808.000000</td>\n",
       "      <td>54808.000000</td>\n",
       "      <td>54808.000000</td>\n",
       "    </tr>\n",
       "    <tr>\n",
       "      <th>mean</th>\n",
       "      <td>39195.830627</td>\n",
       "      <td>1.253011</td>\n",
       "      <td>34.803915</td>\n",
       "      <td>3.329256</td>\n",
       "      <td>5.865512</td>\n",
       "      <td>0.351974</td>\n",
       "      <td>0.023172</td>\n",
       "      <td>63.386750</td>\n",
       "      <td>0.085170</td>\n",
       "    </tr>\n",
       "    <tr>\n",
       "      <th>std</th>\n",
       "      <td>22586.581449</td>\n",
       "      <td>0.609264</td>\n",
       "      <td>7.660169</td>\n",
       "      <td>1.259993</td>\n",
       "      <td>4.265094</td>\n",
       "      <td>0.477590</td>\n",
       "      <td>0.150450</td>\n",
       "      <td>13.371559</td>\n",
       "      <td>0.279137</td>\n",
       "    </tr>\n",
       "    <tr>\n",
       "      <th>min</th>\n",
       "      <td>1.000000</td>\n",
       "      <td>1.000000</td>\n",
       "      <td>20.000000</td>\n",
       "      <td>1.000000</td>\n",
       "      <td>1.000000</td>\n",
       "      <td>0.000000</td>\n",
       "      <td>0.000000</td>\n",
       "      <td>39.000000</td>\n",
       "      <td>0.000000</td>\n",
       "    </tr>\n",
       "    <tr>\n",
       "      <th>25%</th>\n",
       "      <td>19669.750000</td>\n",
       "      <td>1.000000</td>\n",
       "      <td>29.000000</td>\n",
       "      <td>3.000000</td>\n",
       "      <td>3.000000</td>\n",
       "      <td>0.000000</td>\n",
       "      <td>0.000000</td>\n",
       "      <td>51.000000</td>\n",
       "      <td>0.000000</td>\n",
       "    </tr>\n",
       "    <tr>\n",
       "      <th>50%</th>\n",
       "      <td>39225.500000</td>\n",
       "      <td>1.000000</td>\n",
       "      <td>33.000000</td>\n",
       "      <td>3.000000</td>\n",
       "      <td>5.000000</td>\n",
       "      <td>0.000000</td>\n",
       "      <td>0.000000</td>\n",
       "      <td>60.000000</td>\n",
       "      <td>0.000000</td>\n",
       "    </tr>\n",
       "    <tr>\n",
       "      <th>75%</th>\n",
       "      <td>58730.500000</td>\n",
       "      <td>1.000000</td>\n",
       "      <td>39.000000</td>\n",
       "      <td>4.000000</td>\n",
       "      <td>7.000000</td>\n",
       "      <td>1.000000</td>\n",
       "      <td>0.000000</td>\n",
       "      <td>76.000000</td>\n",
       "      <td>0.000000</td>\n",
       "    </tr>\n",
       "    <tr>\n",
       "      <th>max</th>\n",
       "      <td>78298.000000</td>\n",
       "      <td>10.000000</td>\n",
       "      <td>60.000000</td>\n",
       "      <td>5.000000</td>\n",
       "      <td>37.000000</td>\n",
       "      <td>1.000000</td>\n",
       "      <td>1.000000</td>\n",
       "      <td>99.000000</td>\n",
       "      <td>1.000000</td>\n",
       "    </tr>\n",
       "  </tbody>\n",
       "</table>\n",
       "</div>"
      ],
      "text/plain": [
       "        employee_id  no_of_trainings           age  previous_year_rating  \\\n",
       "count  54808.000000     54808.000000  54808.000000          50684.000000   \n",
       "mean   39195.830627         1.253011     34.803915              3.329256   \n",
       "std    22586.581449         0.609264      7.660169              1.259993   \n",
       "min        1.000000         1.000000     20.000000              1.000000   \n",
       "25%    19669.750000         1.000000     29.000000              3.000000   \n",
       "50%    39225.500000         1.000000     33.000000              3.000000   \n",
       "75%    58730.500000         1.000000     39.000000              4.000000   \n",
       "max    78298.000000        10.000000     60.000000              5.000000   \n",
       "\n",
       "       length_of_service  KPIs_met >80%   awards_won?  avg_training_score  \\\n",
       "count       54808.000000   54808.000000  54808.000000        54808.000000   \n",
       "mean            5.865512       0.351974      0.023172           63.386750   \n",
       "std             4.265094       0.477590      0.150450           13.371559   \n",
       "min             1.000000       0.000000      0.000000           39.000000   \n",
       "25%             3.000000       0.000000      0.000000           51.000000   \n",
       "50%             5.000000       0.000000      0.000000           60.000000   \n",
       "75%             7.000000       1.000000      0.000000           76.000000   \n",
       "max            37.000000       1.000000      1.000000           99.000000   \n",
       "\n",
       "        is_promoted  \n",
       "count  54808.000000  \n",
       "mean       0.085170  \n",
       "std        0.279137  \n",
       "min        0.000000  \n",
       "25%        0.000000  \n",
       "50%        0.000000  \n",
       "75%        0.000000  \n",
       "max        1.000000  "
      ]
     },
     "execution_count": 7,
     "metadata": {},
     "output_type": "execute_result"
    }
   ],
   "source": [
    "# Checking the Summary Statistics\n",
    "train.describe()"
   ]
  },
  {
   "cell_type": "code",
   "execution_count": 8,
   "id": "64611c3b-0958-4156-9952-23de5d4a25d1",
   "metadata": {},
   "outputs": [
    {
     "data": {
      "text/html": [
       "<div>\n",
       "<style scoped>\n",
       "    .dataframe tbody tr th:only-of-type {\n",
       "        vertical-align: middle;\n",
       "    }\n",
       "\n",
       "    .dataframe tbody tr th {\n",
       "        vertical-align: top;\n",
       "    }\n",
       "\n",
       "    .dataframe thead th {\n",
       "        text-align: right;\n",
       "    }\n",
       "</style>\n",
       "<table border=\"1\" class=\"dataframe\">\n",
       "  <thead>\n",
       "    <tr style=\"text-align: right;\">\n",
       "      <th></th>\n",
       "      <th>employee_id</th>\n",
       "      <th>no_of_trainings</th>\n",
       "      <th>age</th>\n",
       "      <th>previous_year_rating</th>\n",
       "      <th>length_of_service</th>\n",
       "      <th>KPIs_met &gt;80%</th>\n",
       "      <th>awards_won?</th>\n",
       "      <th>avg_training_score</th>\n",
       "    </tr>\n",
       "  </thead>\n",
       "  <tbody>\n",
       "    <tr>\n",
       "      <th>count</th>\n",
       "      <td>23490.000000</td>\n",
       "      <td>23490.000000</td>\n",
       "      <td>23490.000000</td>\n",
       "      <td>21678.000000</td>\n",
       "      <td>23490.000000</td>\n",
       "      <td>23490.000000</td>\n",
       "      <td>23490.000000</td>\n",
       "      <td>23490.000000</td>\n",
       "    </tr>\n",
       "    <tr>\n",
       "      <th>mean</th>\n",
       "      <td>39041.399149</td>\n",
       "      <td>1.254236</td>\n",
       "      <td>34.782929</td>\n",
       "      <td>3.339146</td>\n",
       "      <td>5.810387</td>\n",
       "      <td>0.358834</td>\n",
       "      <td>0.022776</td>\n",
       "      <td>63.263133</td>\n",
       "    </tr>\n",
       "    <tr>\n",
       "      <th>std</th>\n",
       "      <td>22640.809201</td>\n",
       "      <td>0.600910</td>\n",
       "      <td>7.679492</td>\n",
       "      <td>1.263294</td>\n",
       "      <td>4.207917</td>\n",
       "      <td>0.479668</td>\n",
       "      <td>0.149191</td>\n",
       "      <td>13.411750</td>\n",
       "    </tr>\n",
       "    <tr>\n",
       "      <th>min</th>\n",
       "      <td>3.000000</td>\n",
       "      <td>1.000000</td>\n",
       "      <td>20.000000</td>\n",
       "      <td>1.000000</td>\n",
       "      <td>1.000000</td>\n",
       "      <td>0.000000</td>\n",
       "      <td>0.000000</td>\n",
       "      <td>39.000000</td>\n",
       "    </tr>\n",
       "    <tr>\n",
       "      <th>25%</th>\n",
       "      <td>19370.250000</td>\n",
       "      <td>1.000000</td>\n",
       "      <td>29.000000</td>\n",
       "      <td>3.000000</td>\n",
       "      <td>3.000000</td>\n",
       "      <td>0.000000</td>\n",
       "      <td>0.000000</td>\n",
       "      <td>51.000000</td>\n",
       "    </tr>\n",
       "    <tr>\n",
       "      <th>50%</th>\n",
       "      <td>38963.500000</td>\n",
       "      <td>1.000000</td>\n",
       "      <td>33.000000</td>\n",
       "      <td>3.000000</td>\n",
       "      <td>5.000000</td>\n",
       "      <td>0.000000</td>\n",
       "      <td>0.000000</td>\n",
       "      <td>60.000000</td>\n",
       "    </tr>\n",
       "    <tr>\n",
       "      <th>75%</th>\n",
       "      <td>58690.000000</td>\n",
       "      <td>1.000000</td>\n",
       "      <td>39.000000</td>\n",
       "      <td>4.000000</td>\n",
       "      <td>7.000000</td>\n",
       "      <td>1.000000</td>\n",
       "      <td>0.000000</td>\n",
       "      <td>76.000000</td>\n",
       "    </tr>\n",
       "    <tr>\n",
       "      <th>max</th>\n",
       "      <td>78295.000000</td>\n",
       "      <td>9.000000</td>\n",
       "      <td>60.000000</td>\n",
       "      <td>5.000000</td>\n",
       "      <td>34.000000</td>\n",
       "      <td>1.000000</td>\n",
       "      <td>1.000000</td>\n",
       "      <td>99.000000</td>\n",
       "    </tr>\n",
       "  </tbody>\n",
       "</table>\n",
       "</div>"
      ],
      "text/plain": [
       "        employee_id  no_of_trainings           age  previous_year_rating  \\\n",
       "count  23490.000000     23490.000000  23490.000000          21678.000000   \n",
       "mean   39041.399149         1.254236     34.782929              3.339146   \n",
       "std    22640.809201         0.600910      7.679492              1.263294   \n",
       "min        3.000000         1.000000     20.000000              1.000000   \n",
       "25%    19370.250000         1.000000     29.000000              3.000000   \n",
       "50%    38963.500000         1.000000     33.000000              3.000000   \n",
       "75%    58690.000000         1.000000     39.000000              4.000000   \n",
       "max    78295.000000         9.000000     60.000000              5.000000   \n",
       "\n",
       "       length_of_service  KPIs_met >80%   awards_won?  avg_training_score  \n",
       "count       23490.000000   23490.000000  23490.000000        23490.000000  \n",
       "mean            5.810387       0.358834      0.022776           63.263133  \n",
       "std             4.207917       0.479668      0.149191           13.411750  \n",
       "min             1.000000       0.000000      0.000000           39.000000  \n",
       "25%             3.000000       0.000000      0.000000           51.000000  \n",
       "50%             5.000000       0.000000      0.000000           60.000000  \n",
       "75%             7.000000       1.000000      0.000000           76.000000  \n",
       "max            34.000000       1.000000      1.000000           99.000000  "
      ]
     },
     "execution_count": 8,
     "metadata": {},
     "output_type": "execute_result"
    }
   ],
   "source": [
    "test.describe()"
   ]
  },
  {
   "cell_type": "markdown",
   "id": "9b45c6eb-1830-423e-bc60-25d00f535993",
   "metadata": {},
   "source": [
    "### Initial Observations and Data Quality\n",
    "- **Missing Values**: The `previous_year_rating` and `education` features has some missing values.\n",
    "- **Outliers**: The `length_of_service` has a few extreme values, possibly representing long-tenured employees.\n",
    "- **Class Imbalance**: The target variable `is_promoted` may be imbalanced, which could impact model performance.\n",
    "\n",
    "These observations guide our data cleaning and preprocessing steps."
   ]
  },
  {
   "cell_type": "markdown",
   "id": "f8789c88-e382-46c1-b572-64a0682688fc",
   "metadata": {},
   "source": [
    "# Data Cleaning"
   ]
  },
  {
   "cell_type": "markdown",
   "id": "a97dc9d2-b7ad-4c46-8936-eae86509ed63",
   "metadata": {},
   "source": [
    "**Checking for Duplicates**"
   ]
  },
  {
   "cell_type": "code",
   "execution_count": 9,
   "id": "1dab036e-294b-4e3b-82f6-a1cc9c889b8a",
   "metadata": {},
   "outputs": [
    {
     "data": {
      "text/plain": [
       "0"
      ]
     },
     "execution_count": 9,
     "metadata": {},
     "output_type": "execute_result"
    }
   ],
   "source": [
    "# Checking for duplicates based on the employee_id column\n",
    "train.duplicated(['employee_id']).sum()"
   ]
  },
  {
   "cell_type": "code",
   "execution_count": 10,
   "id": "fb7b7186-568a-4059-9e83-cde6cbb7d3b1",
   "metadata": {},
   "outputs": [
    {
     "data": {
      "text/plain": [
       "0"
      ]
     },
     "execution_count": 10,
     "metadata": {},
     "output_type": "execute_result"
    }
   ],
   "source": [
    "test.duplicated(['employee_id']).sum()"
   ]
  },
  {
   "cell_type": "markdown",
   "id": "7a4eb82b-d0db-4dc2-b22a-2eba0c331647",
   "metadata": {},
   "source": [
    "**Handling Missing Values**"
   ]
  },
  {
   "cell_type": "code",
   "execution_count": 11,
   "id": "5b488be5-1101-4b38-a547-0ed8910b5c8b",
   "metadata": {},
   "outputs": [
    {
     "name": "stdout",
     "output_type": "stream",
     "text": [
      "Train Dataset - Missing and Unique Values\n",
      "                      Missing Values  Unique Values\n",
      "employee_id                        0          54808\n",
      "department                         0              9\n",
      "region                             0             34\n",
      "education                       2409              3\n",
      "gender                             0              2\n",
      "recruitment_channel                0              3\n",
      "no_of_trainings                    0             10\n",
      "age                                0             41\n",
      "previous_year_rating            4124              5\n",
      "length_of_service                  0             35\n",
      "KPIs_met >80%                      0              2\n",
      "awards_won?                        0              2\n",
      "avg_training_score                 0             61\n",
      "is_promoted                        0              2\n",
      "\n",
      "Test Dataset - Missing and Unique Values\n",
      "                      Missing Values  Unique Values\n",
      "employee_id                        0          23490\n",
      "department                         0              9\n",
      "region                             0             34\n",
      "education                       1034              3\n",
      "gender                             0              2\n",
      "recruitment_channel                0              3\n",
      "no_of_trainings                    0              9\n",
      "age                                0             41\n",
      "previous_year_rating            1812              5\n",
      "length_of_service                  0             34\n",
      "KPIs_met >80%                      0              2\n",
      "awards_won?                        0              2\n",
      "avg_training_score                 0             61\n"
     ]
    }
   ],
   "source": [
    "# Checking for Null values\n",
    "def missing_and_unique_values(train):\n",
    "    summary = pd.DataFrame({\n",
    "        'Missing Values': train.isnull().sum(),\n",
    "        'Unique Values': train.nunique()\n",
    "    })\n",
    "    return summary\n",
    "\n",
    "print(\"Train Dataset - Missing and Unique Values\")\n",
    "print(missing_and_unique_values(train))\n",
    "\n",
    "print(\"\\nTest Dataset - Missing and Unique Values\")\n",
    "print(missing_and_unique_values(test))"
   ]
  },
  {
   "cell_type": "code",
   "execution_count": 12,
   "id": "2c22e18a-cca2-4bfd-b2cc-b37110cbc81c",
   "metadata": {},
   "outputs": [],
   "source": [
    "# drop values that are null\n",
    "train.dropna(axis=0,inplace=True)\n",
    "test.dropna(axis=0, inplace=True)"
   ]
  },
  {
   "cell_type": "code",
   "execution_count": 13,
   "id": "bed20237-6f83-477d-9fca-e585343bc7b1",
   "metadata": {},
   "outputs": [
    {
     "name": "stdout",
     "output_type": "stream",
     "text": [
      "Train Dataset - Missing and Unique Values\n",
      "                      Missing Values  Unique Values\n",
      "employee_id                        0          48660\n",
      "department                         0              9\n",
      "region                             0             34\n",
      "education                          0              3\n",
      "gender                             0              2\n",
      "recruitment_channel                0              3\n",
      "no_of_trainings                    0             10\n",
      "age                                0             41\n",
      "previous_year_rating               0              5\n",
      "length_of_service                  0             35\n",
      "KPIs_met >80%                      0              2\n",
      "awards_won?                        0              2\n",
      "avg_training_score                 0             61\n",
      "is_promoted                        0              2\n",
      "\n",
      "Test Dataset - Missing and Unique Values\n",
      "                      Missing Values  Unique Values\n",
      "employee_id                        0          20819\n",
      "department                         0              9\n",
      "region                             0             34\n",
      "education                          0              3\n",
      "gender                             0              2\n",
      "recruitment_channel                0              3\n",
      "no_of_trainings                    0              9\n",
      "age                                0             41\n",
      "previous_year_rating               0              5\n",
      "length_of_service                  0             34\n",
      "KPIs_met >80%                      0              2\n",
      "awards_won?                        0              2\n",
      "avg_training_score                 0             61\n"
     ]
    }
   ],
   "source": [
    "# Confirm Null values dropped\n",
    "def missing_and_unique_values(train):\n",
    "    summary = pd.DataFrame({\n",
    "        'Missing Values': train.isnull().sum(),\n",
    "        'Unique Values': train.nunique()\n",
    "    })\n",
    "    return summary\n",
    "\n",
    "print(\"Train Dataset - Missing and Unique Values\")\n",
    "print(missing_and_unique_values(train))\n",
    "\n",
    "print(\"\\nTest Dataset - Missing and Unique Values\")\n",
    "print(missing_and_unique_values(test))"
   ]
  },
  {
   "cell_type": "markdown",
   "id": "0e61f68a-3837-41e5-85c0-20ac08888e19",
   "metadata": {},
   "source": [
    "**Checking for Outliers**"
   ]
  },
  {
   "cell_type": "code",
   "execution_count": 14,
   "id": "40093fd1-6c70-4374-9cba-c0f8b639138a",
   "metadata": {},
   "outputs": [
    {
     "data": {
      "image/png": "[encoded data removed]",
      "text/plain": [
       "<Figure size 1200x600 with 2 Axes>"
      ]
     },
     "metadata": {},
     "output_type": "display_data"
    }
   ],
   "source": [
    "#Checking for Outliers\n",
    "# Plot box plots to visualize outliers in the datasets\n",
    "dataframes = [('train_df', train), ('test_df', test)]\n",
    "\n",
    "# Plot side-by-side boxplots\n",
    "fig, axes = plt.subplots(nrows=1, ncols=2, figsize=(12, 6))\n",
    "\n",
    "for ax, (name, df) in zip(axes, dataframes):\n",
    "    df[['length_of_service']].boxplot(ax=ax)\n",
    "    ax.set_title(f'Outlier Detection in {name}')\n",
    "\n",
    "plt.tight_layout()\n",
    "plt.show()"
   ]
  },
  {
   "cell_type": "markdown",
   "id": "4a1e09d7-fce7-451d-80e4-c061f1600ed6",
   "metadata": {},
   "source": [
    "**Checking for Class Imbalance**"
   ]
  },
  {
   "cell_type": "code",
   "execution_count": 15,
   "id": "947ba526-a737-4f97-88cf-581bc7bacb44",
   "metadata": {},
   "outputs": [
    {
     "name": "stdout",
     "output_type": "stream",
     "text": [
      "Class Distribution (Percentage):\n",
      "is_promoted\n",
      "0    91.302918\n",
      "1     8.697082\n",
      "Name: proportion, dtype: float64\n"
     ]
    },
    {
     "data": {
      "image/png": "[encoded data removed]",
      "text/plain": [
       "<Figure size 800x600 with 1 Axes>"
      ]
     },
     "metadata": {},
     "output_type": "display_data"
    }
   ],
   "source": [
    "# Check class imbalance\n",
    "def check_class_imbalance(df, target_column):\n",
    "    # Calculate value counts\n",
    "    value_counts = df[target_column].value_counts(normalize=True) * 100\n",
    "    print(\"Class Distribution (Percentage):\")\n",
    "    print(value_counts)\n",
    "    \n",
    "    # Plot the class distribution\n",
    "    plt.figure(figsize=(8, 6))\n",
    "    value_counts.plot(kind='bar', color=['skyblue', 'salmon'])\n",
    "    plt.title('Class Distribution')\n",
    "    plt.xlabel('Class')\n",
    "    plt.ylabel('Percentage')\n",
    "    plt.show()\n",
    "\n",
    "# Check class imbalance in the train dataset\n",
    "check_class_imbalance(train, 'is_promoted')"
   ]
  },
  {
   "cell_type": "markdown",
   "id": "efad78e7-1078-402a-ac05-6033f21970ca",
   "metadata": {
    "jp-MarkdownHeadingCollapsed": true
   },
   "source": [
    "The class distribution shows a significant class imbalance, with 91.3% of instances labeled as \"0\" (not promoted) and only 8.7% labeled as \"1\" (promoted). This imbalance means the dataset has many more examples of employees who were not promoted compared to those who were."
   ]
  },
  {
   "cell_type": "markdown",
   "id": "424ae78a-4463-47cc-afda-e1d456071691",
   "metadata": {},
   "source": [
    "# Data Pre-Processing"
   ]
  },
  {
   "cell_type": "markdown",
   "id": "b969fd1d-1c5d-41a3-b6df-9c6b9750bae5",
   "metadata": {
    "jp-MarkdownHeadingCollapsed": true
   },
   "source": [
    "## Feature Engineering"
   ]
  },
  {
   "cell_type": "markdown",
   "id": "f603edee-c58a-41e7-aee8-b41fd01499fc",
   "metadata": {},
   "source": [
    "**Region Column**"
   ]
  },
  {
   "cell_type": "code",
   "execution_count": 16,
   "id": "2e88751f-e384-4c2b-8f18-7e58746d6602",
   "metadata": {},
   "outputs": [
    {
     "data": {
      "text/plain": [
       "region\n",
       "region_2     10811\n",
       "region_22     5435\n",
       "region_7      4397\n",
       "region_15     2512\n",
       "region_13     2463\n",
       "region_26     1966\n",
       "region_31     1692\n",
       "region_4      1626\n",
       "region_27     1418\n",
       "region_16     1319\n",
       "region_11     1189\n",
       "region_28     1143\n",
       "region_23     1104\n",
       "region_29      896\n",
       "region_19      838\n",
       "region_20      780\n",
       "region_32      773\n",
       "region_14      770\n",
       "region_17      742\n",
       "region_25      721\n",
       "region_5       690\n",
       "region_10      614\n",
       "region_30      602\n",
       "region_6       579\n",
       "region_8       578\n",
       "region_1       553\n",
       "region_24      462\n",
       "region_12      425\n",
       "region_21      370\n",
       "region_3       331\n",
       "region_9       324\n",
       "region_33      260\n",
       "region_34      253\n",
       "region_18       24\n",
       "Name: count, dtype: int64"
      ]
     },
     "execution_count": 16,
     "metadata": {},
     "output_type": "execute_result"
    }
   ],
   "source": [
    "#Checking the count of unique values in the region column\n",
    "train.region.value_counts()"
   ]
  },
  {
   "cell_type": "markdown",
   "id": "2dbd6ddc-55fa-48c1-9d48-6ee764f52306",
   "metadata": {},
   "source": [
    "The region column could be simplified by grouping less common regions into an \"Other\" category, this will help reduce complexity and improve the models performance."
   ]
  },
  {
   "cell_type": "code",
   "execution_count": 17,
   "id": "f40c18d3-c901-45eb-9f6a-efb973a4c564",
   "metadata": {},
   "outputs": [],
   "source": [
    "# Define threshold for grouping into \"Other\"\n",
    "threshold = 1000\n",
    "\n",
    "# Identify regions that meet the threshold criteria\n",
    "common_regions = train['region'].value_counts()\n",
    "common_regions = common_regions[common_regions >= threshold].index\n",
    "\n",
    "# Use np.where to assign regions based on the threshold\n",
    "train['region_cleaned'] = np.where(train['region'].isin(common_regions), train['region'], 'Other')"
   ]
  },
  {
   "cell_type": "code",
   "execution_count": 18,
   "id": "e7d8e766-99d9-43f4-bcb5-1f61ff1974bf",
   "metadata": {},
   "outputs": [
    {
     "data": {
      "text/plain": [
       "14"
      ]
     },
     "execution_count": 18,
     "metadata": {},
     "output_type": "execute_result"
    }
   ],
   "source": [
    "#Checking the number of unique values in the cleaned region column\n",
    "train.region_cleaned.nunique()"
   ]
  },
  {
   "cell_type": "markdown",
   "id": "bdc91b2b-8070-4cb3-b009-2524c066b43d",
   "metadata": {},
   "source": [
    "**Age Column**"
   ]
  },
  {
   "cell_type": "code",
   "execution_count": 19,
   "id": "fcdefec5-c799-44a8-a140-4144a66d9d12",
   "metadata": {},
   "outputs": [
    {
     "data": {
      "text/plain": [
       "age\n",
       "32    3389\n",
       "31    3268\n",
       "30    3202\n",
       "33    3106\n",
       "34    2989\n",
       "29    2731\n",
       "35    2637\n",
       "36    2451\n",
       "28    2301\n",
       "37    2117\n",
       "27    2015\n",
       "38    1875\n",
       "39    1647\n",
       "40    1616\n",
       "26    1472\n",
       "41    1254\n",
       "42    1127\n",
       "43     962\n",
       "44     824\n",
       "25     784\n",
       "45     739\n",
       "46     684\n",
       "48     548\n",
       "47     539\n",
       "50     507\n",
       "49     434\n",
       "51     378\n",
       "24     362\n",
       "53     345\n",
       "52     343\n",
       "54     305\n",
       "55     284\n",
       "56     263\n",
       "57     235\n",
       "60     210\n",
       "58     207\n",
       "59     202\n",
       "23     144\n",
       "22      84\n",
       "20      51\n",
       "21      29\n",
       "Name: count, dtype: int64"
      ]
     },
     "execution_count": 19,
     "metadata": {},
     "output_type": "execute_result"
    }
   ],
   "source": [
    "# Checking the count of unique values in the age column\n",
    "train.age.value_counts()"
   ]
  },
  {
   "cell_type": "markdown",
   "id": "36c94d98-a7e3-4fea-a216-8c1745a7f0c9",
   "metadata": {},
   "source": [
    "**Creating the age group feature**"
   ]
  },
  {
   "cell_type": "markdown",
   "id": "38acbec1-33eb-47db-9e3a-b1ea8322ef03",
   "metadata": {},
   "source": [
    "The high number of unique values can make the model overly complex, resulting in the curse of dimensionality. To address this, we created a new feature called 'age_group' by binning the age values into the following categories:\n",
    "\n",
    "Under 20 <br>\n",
    "20-30 <br>\n",
    "30-40 <br>\n",
    "40-50 <br>\n",
    "50-60 <br>\n",
    "Over 60"
   ]
  },
  {
   "cell_type": "code",
   "execution_count": 20,
   "id": "6d4a8f50-2eb7-434a-b859-cdf73c8e4ad2",
   "metadata": {},
   "outputs": [],
   "source": [
    "train['age_group'] = pd.cut(train['age'], bins=[-1, 20, 30, 40, 50, 60, 70], \n",
    "                              labels=['Under 20', '20-30', '30-40', '40-50', '50-60', 'Over 60'])"
   ]
  },
  {
   "cell_type": "markdown",
   "id": "6feecfa9-ec2c-467d-9a01-512ebbdfc25b",
   "metadata": {},
   "source": [
    "**Length of Service column**"
   ]
  },
  {
   "cell_type": "code",
   "execution_count": 21,
   "id": "119b682c-d456-4635-9b7c-5bbac3edb526",
   "metadata": {},
   "outputs": [
    {
     "data": {
      "text/plain": [
       "length_of_service\n",
       "3     6680\n",
       "4     6585\n",
       "2     6185\n",
       "5     5622\n",
       "7     5385\n",
       "6     4582\n",
       "8     2804\n",
       "9     2555\n",
       "10    2140\n",
       "11     892\n",
       "12     776\n",
       "13     660\n",
       "15     580\n",
       "16     539\n",
       "14     536\n",
       "17     426\n",
       "18     384\n",
       "1      380\n",
       "19     319\n",
       "20     128\n",
       "21      74\n",
       "24      67\n",
       "23      62\n",
       "22      60\n",
       "25      49\n",
       "26      41\n",
       "27      36\n",
       "29      30\n",
       "28      29\n",
       "31      19\n",
       "30      12\n",
       "33       9\n",
       "32       9\n",
       "34       4\n",
       "37       1\n",
       "Name: count, dtype: int64"
      ]
     },
     "execution_count": 21,
     "metadata": {},
     "output_type": "execute_result"
    }
   ],
   "source": [
    "#Checking the count of unique values in the length of service column\n",
    "train.length_of_service.value_counts()\n"
   ]
  },
  {
   "cell_type": "markdown",
   "id": "a941e7fb-26ae-430c-9c08-e86d632fe1af",
   "metadata": {},
   "source": [
    "**Creating the service group feature**"
   ]
  },
  {
   "cell_type": "markdown",
   "id": "aa932419-ab1b-470c-b0b2-a59226c77eda",
   "metadata": {},
   "source": [
    "To better capture the non-linear relationship between length of service and promotion potential, I created a new feature called 'service_group' by binning the length_of_service values into the following categories:\n",
    "\n",
    "Less than 2 years<br>\n",
    "2-5 years<br>\n",
    "5-10 years<br>\n",
    "Over 10 years<br>"
   ]
  },
  {
   "cell_type": "code",
   "execution_count": 22,
   "id": "112bc90c-8e4b-4f4a-a0c8-07183e6159d8",
   "metadata": {},
   "outputs": [],
   "source": [
    "train['service_group'] = pd.cut(train['length_of_service'], bins=[-0.1, 2, 5, 10, 20], \n",
    "                                  labels=['Less than 2 years', '2-5 years', '5-10 years', 'Over 10 years'])"
   ]
  },
  {
   "cell_type": "markdown",
   "id": "cf50d315-8eb4-41ea-b576-9e5a58cec256",
   "metadata": {},
   "source": [
    "**average_training_score column**"
   ]
  },
  {
   "cell_type": "code",
   "execution_count": 23,
   "id": "1173a0e2-4e15-4422-8fdc-212fefd9d717",
   "metadata": {},
   "outputs": [
    {
     "data": {
      "text/plain": [
       "count    48660.000000\n",
       "mean        63.603309\n",
       "std         13.273502\n",
       "min         39.000000\n",
       "25%         51.000000\n",
       "50%         60.000000\n",
       "75%         76.000000\n",
       "max         99.000000\n",
       "Name: avg_training_score, dtype: float64"
      ]
     },
     "execution_count": 23,
     "metadata": {},
     "output_type": "execute_result"
    }
   ],
   "source": [
    "train.avg_training_score.describe()"
   ]
  },
  {
   "cell_type": "code",
   "execution_count": 24,
   "id": "910e45ac-5d45-4e4c-bb18-c8996ef1bc10",
   "metadata": {},
   "outputs": [
    {
     "data": {
      "text/plain": [
       "avg_training_score\n",
       "50    2303\n",
       "49    2287\n",
       "48    2081\n",
       "60    1988\n",
       "51    1980\n",
       "      ... \n",
       "99      34\n",
       "98      32\n",
       "41      24\n",
       "40       4\n",
       "39       2\n",
       "Name: count, Length: 61, dtype: int64"
      ]
     },
     "execution_count": 24,
     "metadata": {},
     "output_type": "execute_result"
    }
   ],
   "source": [
    "train.avg_training_score.value_counts()"
   ]
  },
  {
   "cell_type": "code",
   "execution_count": 25,
   "id": "e52fd221-ceb7-4de6-a6e4-779c760454d3",
   "metadata": {},
   "outputs": [],
   "source": [
    "train['score_group'] = pd.cut(\n",
    "    train['avg_training_score'], bins=[-0.1, 50, 60, 75, 100], labels=['Low', 'Medium', 'High', 'Very High'])"
   ]
  },
  {
   "cell_type": "markdown",
   "id": "ac059ef3-75d5-4673-bd9b-35123c63c651",
   "metadata": {},
   "source": [
    "The binning of avg_training_score is based on the score distribution and quartile values, creating categories that are easy to interpret and meaningful. These bins—Low (≤50), Medium (51-60), High (61-75), and Very High (>75)—align with performance levels, helping to identify employees’ training outcomes as underperforming, average, above-average, or top performers. This approach improves interpretability, reduces model complexity, and maintains consistency across data points."
   ]
  },
  {
   "cell_type": "markdown",
   "id": "43995127-1268-4802-a1d7-c0d683bf20e6",
   "metadata": {},
   "source": [
    "## Encoding categoring variables"
   ]
  },
  {
   "cell_type": "code",
   "execution_count": 26,
   "id": "cf314c99-187c-4a26-a5ae-810fff59f9a8",
   "metadata": {},
   "outputs": [],
   "source": [
    "# Encoding categorical columns\n",
    "categorical_cols = train.select_dtypes(include=['object', 'category']).columns\n",
    "\n",
    "label_encoder = LabelEncoder()\n",
    "\n",
    "# Apply LabelEncoder to each categorical column\n",
    "for col in categorical_cols:\n",
    "    train[col] = label_encoder.fit_transform(train[col])"
   ]
  },
  {
   "cell_type": "markdown",
   "id": "83e97317-5227-43e2-9370-a5235cdcde91",
   "metadata": {},
   "source": [
    "## Splitting the data"
   ]
  },
  {
   "cell_type": "code",
   "execution_count": 27,
   "id": "02d8391a-8f4c-48bb-a9ed-e7e366174cc0",
   "metadata": {},
   "outputs": [],
   "source": [
    "# Split the predictor and target variables\n",
    "X = train.drop('is_promoted', axis=1) #predictor\n",
    "y = train['is_promoted'] #target \n",
    "\n",
    "# Split into training and test sets\n",
    "X_train, X_test, y_train, y_test = train_test_split(X, y, test_size=0.25, random_state=42)"
   ]
  },
  {
   "cell_type": "markdown",
   "id": "67bf67ce-0ff4-49ce-956e-eee2b7a8e8de",
   "metadata": {},
   "source": [
    "## Balancing the Target Variable"
   ]
  },
  {
   "cell_type": "code",
   "execution_count": 28,
   "id": "e156cbc5-0bc3-49dc-bcf4-dfa3f81a019d",
   "metadata": {},
   "outputs": [
    {
     "name": "stdout",
     "output_type": "stream",
     "text": [
      "Requirement already satisfied: imbalanced-learn in c:\\users\\temp\\anaconda3\\envs\\learn-env\\lib\\site-packages (0.12.4)\n",
      "Requirement already satisfied: numpy>=1.17.3 in c:\\users\\temp\\anaconda3\\envs\\learn-env\\lib\\site-packages (from imbalanced-learn) (1.26.4)\n",
      "Requirement already satisfied: scipy>=1.5.0 in c:\\users\\temp\\anaconda3\\envs\\learn-env\\lib\\site-packages (from imbalanced-learn) (1.13.1)\n",
      "Requirement already satisfied: scikit-learn>=1.0.2 in c:\\users\\temp\\anaconda3\\envs\\learn-env\\lib\\site-packages (from imbalanced-learn) (1.5.0)\n",
      "Requirement already satisfied: joblib>=1.1.1 in c:\\users\\temp\\anaconda3\\envs\\learn-env\\lib\\site-packages (from imbalanced-learn) (1.4.2)\n",
      "Requirement already satisfied: threadpoolctl>=2.0.0 in c:\\users\\temp\\anaconda3\\envs\\learn-env\\lib\\site-packages (from imbalanced-learn) (3.5.0)\n"
     ]
    }
   ],
   "source": [
    "!pip install imbalanced-learn"
   ]
  },
  {
   "cell_type": "code",
   "execution_count": 29,
   "id": "11e35210-1b7e-4561-8c93-c0dd7831e5c5",
   "metadata": {},
   "outputs": [
    {
     "name": "stdout",
     "output_type": "stream",
     "text": [
      "Original class distribution: \n",
      "\n",
      "is_promoted\n",
      "0    44428\n",
      "1     4232\n",
      "Name: count, dtype: int64\n",
      "-----------------------------------------\n",
      "Synthetic sample class distribution: \n",
      "\n",
      "is_promoted\n",
      "0    33350\n",
      "1    33350\n",
      "Name: count, dtype: int64\n"
     ]
    }
   ],
   "source": [
    "from imblearn.over_sampling import SMOTE\n",
    "\n",
    "# Previous original class distribution\n",
    "print('Original class distribution: \\n')\n",
    "print(y.value_counts())\n",
    "smote = SMOTE()\n",
    "X_train_resampled, y_train_resampled = smote.fit_resample(X_train, y_train) \n",
    "# Preview synthetic sample class distribution\n",
    "print('-----------------------------------------')\n",
    "print('Synthetic sample class distribution: \\n')\n",
    "print(pd.Series(y_train_resampled).value_counts())"
   ]
  },
  {
   "cell_type": "markdown",
   "id": "121b8d7e-b6fb-4c35-a3e9-0b346bb14037",
   "metadata": {},
   "source": [
    "## Statistical Normality Test"
   ]
  },
  {
   "cell_type": "code",
   "execution_count": 30,
   "id": "b325d8b6-7eca-444c-bf82-c228b771a4ee",
   "metadata": {},
   "outputs": [
    {
     "name": "stdout",
     "output_type": "stream",
     "text": [
      "Feature: employee_id, Statistic: 33070.1040, p-value: 0.0000\n",
      "employee_id does not follow a normal distribution (p < 0.05)\n",
      "\n",
      "--------------------------------------------------\n",
      "\n",
      "Feature: department, Statistic: 3657.7160, p-value: 0.0000\n",
      "department does not follow a normal distribution (p < 0.05)\n",
      "\n",
      "--------------------------------------------------\n",
      "\n",
      "Feature: region, Statistic: 4255.2645, p-value: 0.0000\n",
      "region does not follow a normal distribution (p < 0.05)\n",
      "\n",
      "--------------------------------------------------\n",
      "\n",
      "Feature: education, Statistic: 155904.3417, p-value: 0.0000\n",
      "education does not follow a normal distribution (p < 0.05)\n",
      "\n",
      "--------------------------------------------------\n",
      "\n",
      "Feature: gender, Statistic: 92645.2240, p-value: 0.0000\n",
      "gender does not follow a normal distribution (p < 0.05)\n",
      "\n",
      "--------------------------------------------------\n",
      "\n",
      "Feature: recruitment_channel, Statistic: 132484.7401, p-value: 0.0000\n",
      "recruitment_channel does not follow a normal distribution (p < 0.05)\n",
      "\n",
      "--------------------------------------------------\n",
      "\n",
      "Feature: no_of_trainings, Statistic: 27468.9252, p-value: 0.0000\n",
      "no_of_trainings does not follow a normal distribution (p < 0.05)\n",
      "\n",
      "--------------------------------------------------\n",
      "\n",
      "Feature: age, Statistic: 4832.3844, p-value: 0.0000\n",
      "age does not follow a normal distribution (p < 0.05)\n",
      "\n",
      "--------------------------------------------------\n",
      "\n",
      "Feature: previous_year_rating, Statistic: 2768.6971, p-value: 0.0000\n",
      "previous_year_rating does not follow a normal distribution (p < 0.05)\n",
      "\n",
      "--------------------------------------------------\n",
      "\n",
      "Feature: length_of_service, Statistic: 13307.9341, p-value: 0.0000\n",
      "length_of_service does not follow a normal distribution (p < 0.05)\n",
      "\n",
      "--------------------------------------------------\n",
      "\n",
      "Feature: KPIs_met >80%, Statistic: 171012.6889, p-value: 0.0000\n",
      "KPIs_met >80% does not follow a normal distribution (p < 0.05)\n",
      "\n",
      "--------------------------------------------------\n",
      "\n",
      "Feature: awards_won?, Statistic: 42118.7210, p-value: 0.0000\n",
      "awards_won? does not follow a normal distribution (p < 0.05)\n",
      "\n",
      "--------------------------------------------------\n",
      "\n",
      "Feature: avg_training_score, Statistic: 12438.8463, p-value: 0.0000\n",
      "avg_training_score does not follow a normal distribution (p < 0.05)\n",
      "\n",
      "--------------------------------------------------\n",
      "\n",
      "Feature: region_cleaned, Statistic: 3847.4989, p-value: 0.0000\n",
      "region_cleaned does not follow a normal distribution (p < 0.05)\n",
      "\n",
      "--------------------------------------------------\n",
      "\n",
      "Feature: age_group, Statistic: 2359.4332, p-value: 0.0000\n",
      "age_group does not follow a normal distribution (p < 0.05)\n",
      "\n",
      "--------------------------------------------------\n",
      "\n",
      "Feature: service_group, Statistic: 3382.9177, p-value: 0.0000\n",
      "service_group does not follow a normal distribution (p < 0.05)\n",
      "\n",
      "--------------------------------------------------\n",
      "\n",
      "Feature: score_group, Statistic: 7182259.8772, p-value: 0.0000\n",
      "score_group does not follow a normal distribution (p < 0.05)\n",
      "\n",
      "--------------------------------------------------\n",
      "\n"
     ]
    }
   ],
   "source": [
    "from scipy.stats import normaltest\n",
    "\n",
    "# Conduct normality test on each feature in the training dataset\n",
    "normality_results = {}\n",
    "\n",
    "for column in X_train.columns:\n",
    "    stat, p_value = normaltest(X_train[column])\n",
    "    normality_results[column] = {'statistic': stat, 'p_value': p_value}\n",
    "\n",
    "# Display results\n",
    "for feature, result in normality_results.items():\n",
    "    print(f\"Feature: {feature}, Statistic: {result['statistic']:.4f}, p-value: {result['p_value']:.4f}\")\n",
    "    if result['p_value'] < 0.05:\n",
    "        print(f\"{feature} does not follow a normal distribution (p < 0.05)\")\n",
    "    else:\n",
    "        print(f\"{feature} follows a normal distribution (p >= 0.05)\")\n",
    "    print(\"\\n\" + \"-\"*50 + \"\\n\")  # Add a separator line and extra space between features"
   ]
  },
  {
   "cell_type": "markdown",
   "id": "42ce55ef-3d19-475b-9b9a-29a1b2f8819d",
   "metadata": {},
   "source": [
    "## Scaling the data"
   ]
  },
  {
   "cell_type": "code",
   "execution_count": 31,
   "id": "1e45b314-f974-4e7f-b23a-c4407d9ad33d",
   "metadata": {},
   "outputs": [],
   "source": [
    "# Scaling features (necessary for models like Logistic Regression, SVM, etc.)\n",
    "\n",
    "scaler = StandardScaler()\n",
    "\n",
    "# Transform the training and test sets\n",
    "X_train_scaled = scaler.fit_transform(X_train_resampled)\n",
    "X_test_scaled = scaler.transform(X_test)\n",
    "\n",
    "# Convert into a DataFrame\n",
    "scaled_df_X_train = pd.DataFrame(X_train_scaled, columns=X_train.columns)"
   ]
  },
  {
   "cell_type": "markdown",
   "id": "27a58c41-dbbd-445d-bd54-add21f11bd7e",
   "metadata": {},
   "source": [
    "## Clustering"
   ]
  },
  {
   "cell_type": "code",
   "execution_count": 32,
   "id": "bac067a4-1452-40ec-9ca9-13d08e854212",
   "metadata": {},
   "outputs": [
    {
     "data": {
      "image/png": "[encoded data removed]",
      "text/plain": [
       "<Figure size 640x480 with 1 Axes>"
      ]
     },
     "metadata": {},
     "output_type": "display_data"
    }
   ],
   "source": [
    "from sklearn.metrics import silhouette_score\n",
    "\n",
    "silhouette_scores = []\n",
    "for n_clusters in range(2, 11):  # Minimum of 2 clusters for silhouette score\n",
    "    kmeans = KMeans(n_clusters=n_clusters, random_state=0)\n",
    "    cluster_labels = kmeans.fit_predict(X_train_scaled)\n",
    "    silhouette_avg = silhouette_score(X_train_scaled, cluster_labels)\n",
    "    silhouette_scores.append(silhouette_avg)\n",
    "\n",
    "# Plot silhouette scores for each number of clusters\n",
    "plt.plot(range(2, 11), silhouette_scores, marker='o')\n",
    "plt.xlabel('Number of clusters')\n",
    "plt.ylabel('Silhouette Score')\n",
    "plt.title('Silhouette Method for Optimal Number of Clusters')\n",
    "plt.show()"
   ]
  },
  {
   "cell_type": "code",
   "execution_count": 35,
   "id": "27d55f02-2e97-4e58-946c-16c6a498eaee",
   "metadata": {},
   "outputs": [
    {
     "data": {
      "image/png": "[encoded data removed]",
      "text/plain": [
       "<Figure size 640x480 with 1 Axes>"
      ]
     },
     "metadata": {},
     "output_type": "display_data"
    }
   ],
   "source": [
    "import matplotlib.pyplot as plt\n",
    "from sklearn.cluster import KMeans\n",
    "\n",
    "# Range of cluster values to try\n",
    "wcss = []\n",
    "for n_clusters in range(1, 11):\n",
    "    kmeans = KMeans(n_clusters=n_clusters, random_state=0)\n",
    "    kmeans.fit(X_train_scaled)  # X_train_scaled is your scaled feature data\n",
    "    wcss.append(kmeans.inertia_)\n",
    "\n",
    "# Plot the WCSS for each number of clusters\n",
    "plt.plot(range(1, 11), wcss, marker='o')\n",
    "plt.xlabel('Number of clusters')\n",
    "plt.ylabel('WCSS')\n",
    "plt.title('Elbow Method for Optimal Number of Clusters')\n",
    "plt.show()\n"
   ]
  },
  {
   "cell_type": "code",
   "execution_count": 36,
   "id": "22a9d07c-3710-423a-8945-95a0654c0180",
   "metadata": {},
   "outputs": [],
   "source": [
    "# Clustering\n",
    "kmeans = KMeans(n_clusters=2, random_state=0)\n",
    "kmeans.fit(X_train_scaled)\n",
    "\n",
    "# Adding cluster labels as a new feature\n",
    "X_train_with_clusters = pd.DataFrame(X_train_scaled)\n",
    "X_test_with_clusters = pd.DataFrame(X_test_scaled)\n",
    "X_train_with_clusters['cluster_label'] = kmeans.predict(X_train_scaled)\n",
    "X_test_with_clusters['cluster_label'] = kmeans.predict(X_test_scaled)"
   ]
  },
  {
   "cell_type": "code",
   "execution_count": null,
   "id": "4b75477c-e5b5-4085-a9d2-e8b636e48ac1",
   "metadata": {},
   "outputs": [],
   "source": []
  }
 ],
 "metadata": {
  "kernelspec": {
   "display_name": "Python 3 (ipykernel)",
   "language": "python",
   "name": "python3"
  },
  "language_info": {
   "codemirror_mode": {
    "name": "ipython",
    "version": 3
   },
   "file_extension": ".py",
   "mimetype": "text/x-python",
   "name": "python",
   "nbconvert_exporter": "python",
   "pygments_lexer": "ipython3",
   "version": "3.11.9"
  }
 },
 "nbformat": 4,
 "nbformat_minor": 5
}
